{
 "cells": [
  {
   "cell_type": "code",
   "execution_count": 5,
   "metadata": {},
   "outputs": [
    {
     "ename": "ImportError",
     "evalue": "cannot import name 'set_partitions' from 'more_itertools' (/usr/lib/python3/dist-packages/more_itertools/__init__.py)",
     "output_type": "error",
     "traceback": [
      "\u001b[0;31m---------------------------------------------------------------------------\u001b[0m",
      "\u001b[0;31mImportError\u001b[0m                               Traceback (most recent call last)",
      "Input \u001b[0;32mIn [5]\u001b[0m, in \u001b[0;36m<module>\u001b[0;34m\u001b[0m\n\u001b[1;32m      8\u001b[0m \u001b[38;5;66;03m# from explicit_allocation import H_function\u001b[39;00m\n\u001b[1;32m      9\u001b[0m \u001b[38;5;28;01mimport\u001b[39;00m \u001b[38;5;21;01mergodic_metric\u001b[39;00m\n\u001b[0;32m---> 10\u001b[0m \u001b[38;5;28;01mfrom\u001b[39;00m \u001b[38;5;21;01mutils\u001b[39;00m \u001b[38;5;28;01mimport\u001b[39;00m \u001b[38;5;241m*\u001b[39m\n\u001b[1;32m     11\u001b[0m \u001b[38;5;28;01mimport\u001b[39;00m \u001b[38;5;21;01mmath\u001b[39;00m\n",
      "File \u001b[0;32m~/MA_MOES/utils.py:4\u001b[0m, in \u001b[0;36m<module>\u001b[0;34m\u001b[0m\n\u001b[1;32m      2\u001b[0m \u001b[38;5;28;01mimport\u001b[39;00m \u001b[38;5;21;01mmatplotlib\u001b[39;00m\u001b[38;5;21;01m.\u001b[39;00m\u001b[38;5;21;01mpyplot\u001b[39;00m \u001b[38;5;28;01mas\u001b[39;00m \u001b[38;5;21;01mplt\u001b[39;00m\n\u001b[1;32m      3\u001b[0m \u001b[38;5;28;01mimport\u001b[39;00m \u001b[38;5;21;01mnumpy\u001b[39;00m \u001b[38;5;28;01mas\u001b[39;00m \u001b[38;5;21;01mnp\u001b[39;00m\n\u001b[0;32m----> 4\u001b[0m \u001b[38;5;28;01mfrom\u001b[39;00m \u001b[38;5;21;01mmore_itertools\u001b[39;00m \u001b[38;5;28;01mimport\u001b[39;00m set_partitions\n\u001b[1;32m      5\u001b[0m \u001b[38;5;28;01mimport\u001b[39;00m \u001b[38;5;21;01mitertools\u001b[39;00m\n\u001b[1;32m      6\u001b[0m \u001b[38;5;28;01mimport\u001b[39;00m \u001b[38;5;21;01mmath\u001b[39;00m\n",
      "\u001b[0;31mImportError\u001b[0m: cannot import name 'set_partitions' from 'more_itertools' (/usr/lib/python3/dist-packages/more_itertools/__init__.py)"
     ]
    }
   ],
   "source": [
    "import matplotlib.pyplot as plt\n",
    "import numpy as np\n",
    "import common\n",
    "import scalarize\n",
    "from ergodic_coverage import ErgCover\n",
    "import jax.numpy as jnp\n",
    "import pdb\n",
    "from explicit_allocation import H_function\n",
    "import ergodic_metric\n",
    "from utils import *\n",
    "import math"
   ]
  },
  {
   "cell_type": "code",
   "execution_count": 3,
   "metadata": {},
   "outputs": [
    {
     "name": "stdout",
     "output_type": "stream",
     "text": [
      "Requirement already satisfied: more-itertools in /home/akshaya/anaconda3/envs/moes/lib/python3.7/site-packages (8.12.0)\r\n"
     ]
    }
   ],
   "source": [
    "!pip install more-itertools"
   ]
  },
  {
   "cell_type": "code",
   "execution_count": null,
   "metadata": {},
   "outputs": [],
   "source": [
    "n_agents = 2\n",
    "n_scalar = 10"
   ]
  },
  {
   "cell_type": "code",
   "execution_count": null,
   "metadata": {},
   "outputs": [],
   "source": [
    "pbm_file = \"build_prob/test_cases/2_maps_example_0.pickle\""
   ]
  },
  {
   "cell_type": "code",
   "execution_count": null,
   "metadata": {},
   "outputs": [],
   "source": [
    "problem = common.LoadProblem(pbm_file, n_agents, pdf_list=True)"
   ]
  },
  {
   "cell_type": "code",
   "execution_count": null,
   "metadata": {},
   "outputs": [],
   "source": [
    "problem.nA = 10\n",
    "nA = problem.nA"
   ]
  },
  {
   "cell_type": "code",
   "execution_count": null,
   "metadata": {},
   "outputs": [],
   "source": [
    "problem.s0 = np.array([0.1,0.1,0,0.6,0.7,0])\n",
    "# random_start_pos(n_agents)"
   ]
  },
  {
   "cell_type": "code",
   "execution_count": null,
   "metadata": {},
   "outputs": [],
   "source": [
    "print(\"Agent start positions allotted:\", problem.s0)"
   ]
  },
  {
   "cell_type": "code",
   "execution_count": null,
   "metadata": {},
   "outputs": [],
   "source": [
    "display_map(problem,problem.s0)"
   ]
  },
  {
   "cell_type": "code",
   "execution_count": null,
   "metadata": {},
   "outputs": [],
   "source": [
    "min_erg = []\n",
    "max_erg = []"
   ]
  },
  {
   "cell_type": "code",
   "execution_count": null,
   "metadata": {},
   "outputs": [],
   "source": [
    "for i in range(len(problem.pdfs)):\n",
    "\tif i == 1:\n",
    "\t\tbreak\n",
    "\tfor j in range(n_agents):\n",
    "\t\tprint(\"Value of EEE function: \", H_function(problem.pdfs[i],problem.s0[j*3:j*3+3]))\n",
    "\t\tpdb.set_trace()"
   ]
  },
  {
   "cell_type": "code",
   "execution_count": null,
   "metadata": {},
   "outputs": [],
   "source": [
    "\t\tpdf = jnp.asarray(problem.pdfs[i].flatten())\n",
    "\t\tEC = ergodic_metric.ErgCalc(pdf,1,problem.nA,n_scalar,problem.pix)"
   ]
  },
  {
   "cell_type": "code",
   "execution_count": null,
   "metadata": {},
   "outputs": [],
   "source": [
    "\t\tcontrol, erg, iters = ErgCover(pdf, 1, problem.nA, problem.s0[j*3:j*3+3], n_scalar, problem.pix, 500, False, None, stop_eps=-1,grad_criterion=True)\n",
    "\t\ttime = np.arange(iters+1)\n",
    "\t\tplt.plot(time,erg)\n",
    "\t\tplt.title(\"Variation of ergodicity with number of iterations (for the entire length of the trajectory)\")\n",
    "\t\tplt.xlabel(\"Iteration\")\n",
    "\t\tplt.ylabel(\"Ergodicity of entire trajectory\")\n",
    "\t\tplt.show()"
   ]
  },
  {
   "cell_type": "code",
   "execution_count": null,
   "metadata": {},
   "outputs": [],
   "source": [
    "\t\t_, tj = ergodic_metric.GetTrajXY(control, problem.s0[j*3:j*3+3])\n",
    "\t\tprint(\"Length of traj and controls: \", len(tj),len(control))\n",
    "\t\tprint(control)\n",
    "\t\tpdb.set_trace()"
   ]
  },
  {
   "cell_type": "code",
   "execution_count": null,
   "metadata": {},
   "outputs": [],
   "source": [
    "\t\tdisplay_map(problem,problem.s0,tj=tj)"
   ]
  },
  {
   "cell_type": "code",
   "execution_count": null,
   "metadata": {},
   "outputs": [],
   "source": [
    "\t\t### Find out when the wiggle starts ###\n",
    "\t\tavg = 0\n",
    "\t\tsum_e = 0\n",
    "\t\tprev_avg = -1\n",
    "\t\titer_wiggle = 0 \n",
    "\t\tfor idx,e in enumerate(erg):\n",
    "\t\t\tsum_e += e\n",
    "\t\t\tif idx % 100 == 0:\n",
    "\t\t\t\tprev_avg = avg\n",
    "\t\t\t\tavg = sum_e/100\n",
    "\t\t\t\tprint(prev_avg,avg)\n",
    "\t\t\t\tif abs(prev_avg - avg) < 0.0005:\n",
    "\t\t\t\t\tprint(\"Average not changing! Wiggle started\")\n",
    "\t\t\t\t\tprint(\"Wiggle at erg: \", e)\n",
    "\t\t\t\t\tprint(\"Iteration number: \", idx)\n",
    "\t\t\t\t\titer_wiggle = idx\n",
    "\t\t\t\t\tbreak\n",
    "\t\t\t\tsum_e = 0\n",
    "\t\tmin_erg.append(min(erg))\n",
    "\t\tmax_erg.append(max(erg))\n",
    "\t\tprint(\"Wiggle bound: \", min_erg,max_erg)"
   ]
  },
  {
   "cell_type": "code",
   "execution_count": null,
   "metadata": {},
   "outputs": [],
   "source": [
    "fig, ax = plt.subplots()"
   ]
  },
  {
   "cell_type": "code",
   "execution_count": null,
   "metadata": {},
   "outputs": [],
   "source": [
    "ax.axhspan(min_erg[0], max_erg[0], facecolor='green', alpha=0.5)\n",
    "ax.axhspan(min_erg[1], max_erg[1], facecolor='red', alpha=0.5)\n",
    "# ax.axhspan(min_erg[2], max_erg[2], facecolor='red', alpha=0.5)"
   ]
  },
  {
   "cell_type": "code",
   "execution_count": null,
   "metadata": {},
   "outputs": [],
   "source": [
    "plt.show()"
   ]
  },
  {
   "cell_type": "markdown",
   "metadata": {},
   "source": [
    "EC = ergodic_metric.ErgCalc(pdf,1,nA,n_scalar,problem.pix)<br>\n",
    "erg_t = []   #Ergodicity of the best trajectory with time<br>\n",
    "for j in np.arange(1,len(control),1):<br>\n",
    "\tprint(\"Length of trajectory: \", j)<br>\n",
    "\te = EC.fourier_ergodic_loss(control[0:j], problem.s0[0:3], False)<br>\n",
    "\terg_t.append(e)"
   ]
  },
  {
   "cell_type": "markdown",
   "metadata": {},
   "source": [
    "time = np.arange(1,problem.nA,1)"
   ]
  },
  {
   "cell_type": "markdown",
   "metadata": {},
   "source": [
    "plt.plot(time,erg_t)<br>\n",
    "plt.title(\"Variation of ergodicity with time\")<br>\n",
    "plt.xlabel(\"Time (t)\")<br>\n",
    "plt.ylabel(\"Ergodicity of trajectory [0:t]\")<br>\n",
    "plt.show()"
   ]
  },
  {
   "cell_type": "markdown",
   "metadata": {},
   "source": [
    "print(\"Final Erg: \",erg_t[-1],erg[-1])"
   ]
  }
 ],
 "metadata": {
  "kernelspec": {
   "display_name": "Python 3 (ipykernel)",
   "language": "python",
   "name": "python3"
  },
  "language_info": {
   "codemirror_mode": {
    "name": "ipython",
    "version": 3
   },
   "file_extension": ".py",
   "mimetype": "text/x-python",
   "name": "python",
   "nbconvert_exporter": "python",
   "pygments_lexer": "ipython3",
   "version": "3.8.10"
  }
 },
 "nbformat": 4,
 "nbformat_minor": 2
}
